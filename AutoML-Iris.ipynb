{
 "cells": [
  {
   "cell_type": "code",
   "execution_count": 1,
   "metadata": {},
   "outputs": [],
   "source": [
    "import h2o"
   ]
  },
  {
   "cell_type": "code",
   "execution_count": 2,
   "metadata": {},
   "outputs": [
    {
     "name": "stdout",
     "output_type": "stream",
     "text": [
      "Checking whether there is an H2O instance running at http://localhost:54321..... not found.\n",
      "Attempting to start a local H2O server...\n",
      "  Java Version: java version \"1.8.0_171\"; Java(TM) SE Runtime Environment (build 1.8.0_171-b11); Java HotSpot(TM) 64-Bit Server VM (build 25.171-b11, mixed mode)\n",
      "  Starting server from /Users/raj/anaconda3/lib/python3.6/site-packages/h2o/backend/bin/h2o.jar\n",
      "  Ice root: /var/folders/gl/wb7rqfgd3v708q5m0ydj3pkc0000gq/T/tmpj_0o9kqf\n",
      "  JVM stdout: /var/folders/gl/wb7rqfgd3v708q5m0ydj3pkc0000gq/T/tmpj_0o9kqf/h2o_raj_started_from_python.out\n",
      "  JVM stderr: /var/folders/gl/wb7rqfgd3v708q5m0ydj3pkc0000gq/T/tmpj_0o9kqf/h2o_raj_started_from_python.err\n",
      "  Server is running at http://127.0.0.1:54321\n",
      "Connecting to H2O server at http://127.0.0.1:54321... successful.\n"
     ]
    },
    {
     "data": {
      "text/html": [
       "<div style=\"overflow:auto\"><table style=\"width:50%\"><tr><td>H2O cluster uptime:</td>\n",
       "<td>03 secs</td></tr>\n",
       "<tr><td>H2O cluster timezone:</td>\n",
       "<td>Asia/Kolkata</td></tr>\n",
       "<tr><td>H2O data parsing timezone:</td>\n",
       "<td>UTC</td></tr>\n",
       "<tr><td>H2O cluster version:</td>\n",
       "<td>3.20.0.1</td></tr>\n",
       "<tr><td>H2O cluster version age:</td>\n",
       "<td>12 days </td></tr>\n",
       "<tr><td>H2O cluster name:</td>\n",
       "<td>H2O_from_python_raj_pgp0fp</td></tr>\n",
       "<tr><td>H2O cluster total nodes:</td>\n",
       "<td>1</td></tr>\n",
       "<tr><td>H2O cluster free memory:</td>\n",
       "<td>3.556 Gb</td></tr>\n",
       "<tr><td>H2O cluster total cores:</td>\n",
       "<td>8</td></tr>\n",
       "<tr><td>H2O cluster allowed cores:</td>\n",
       "<td>8</td></tr>\n",
       "<tr><td>H2O cluster status:</td>\n",
       "<td>accepting new members, healthy</td></tr>\n",
       "<tr><td>H2O connection url:</td>\n",
       "<td>http://127.0.0.1:54321</td></tr>\n",
       "<tr><td>H2O connection proxy:</td>\n",
       "<td>None</td></tr>\n",
       "<tr><td>H2O internal security:</td>\n",
       "<td>False</td></tr>\n",
       "<tr><td>H2O API Extensions:</td>\n",
       "<td>XGBoost, Algos, AutoML, Core V3, Core V4</td></tr>\n",
       "<tr><td>Python version:</td>\n",
       "<td>3.6.5 final</td></tr></table></div>"
      ],
      "text/plain": [
       "--------------------------  ----------------------------------------\n",
       "H2O cluster uptime:         03 secs\n",
       "H2O cluster timezone:       Asia/Kolkata\n",
       "H2O data parsing timezone:  UTC\n",
       "H2O cluster version:        3.20.0.1\n",
       "H2O cluster version age:    12 days\n",
       "H2O cluster name:           H2O_from_python_raj_pgp0fp\n",
       "H2O cluster total nodes:    1\n",
       "H2O cluster free memory:    3.556 Gb\n",
       "H2O cluster total cores:    8\n",
       "H2O cluster allowed cores:  8\n",
       "H2O cluster status:         accepting new members, healthy\n",
       "H2O connection url:         http://127.0.0.1:54321\n",
       "H2O connection proxy:\n",
       "H2O internal security:      False\n",
       "H2O API Extensions:         XGBoost, Algos, AutoML, Core V3, Core V4\n",
       "Python version:             3.6.5 final\n",
       "--------------------------  ----------------------------------------"
      ]
     },
     "metadata": {},
     "output_type": "display_data"
    }
   ],
   "source": [
    "h2o.init()"
   ]
  },
  {
   "cell_type": "code",
   "execution_count": 3,
   "metadata": {},
   "outputs": [
    {
     "name": "stdout",
     "output_type": "stream",
     "text": [
      "Parse progress: |█████████████████████████████████████████████████████████| 100%\n"
     ]
    }
   ],
   "source": [
    "url = \"http://h2o-public-test-data.s3.amazonaws.com/smalldata/iris/iris_wheader.csv\"\n",
    "iris=h2o.import_file(url)"
   ]
  },
  {
   "cell_type": "code",
   "execution_count": 4,
   "metadata": {},
   "outputs": [],
   "source": [
    "train,test= iris.split_frame([0.8])"
   ]
  },
  {
   "cell_type": "code",
   "execution_count": 5,
   "metadata": {},
   "outputs": [
    {
     "data": {
      "text/plain": [
       "123"
      ]
     },
     "execution_count": 5,
     "metadata": {},
     "output_type": "execute_result"
    }
   ],
   "source": [
    "train.nrows"
   ]
  },
  {
   "cell_type": "code",
   "execution_count": 6,
   "metadata": {},
   "outputs": [
    {
     "data": {
      "text/plain": [
       "27"
      ]
     },
     "execution_count": 6,
     "metadata": {},
     "output_type": "execute_result"
    }
   ],
   "source": [
    "test.nrows"
   ]
  },
  {
   "cell_type": "code",
   "execution_count": 8,
   "metadata": {},
   "outputs": [],
   "source": [
    "from h2o.automl import H2OAutoML"
   ]
  },
  {
   "cell_type": "markdown",
   "metadata": {},
   "source": [
    "Run time could be any default or may be hour or so"
   ]
  },
  {
   "cell_type": "code",
   "execution_count": 10,
   "metadata": {},
   "outputs": [
    {
     "name": "stdout",
     "output_type": "stream",
     "text": [
      "AutoML progress: |████████████████████████████████████████████████████████| 100%\n"
     ]
    }
   ],
   "source": [
    "mA=H2OAutoML(max_runtime_secs=30)\n",
    "mA.train(['sepal_len','sepal_wid','petal_len','petal_wid'],\"class\",train)"
   ]
  },
  {
   "cell_type": "code",
   "execution_count": 11,
   "metadata": {},
   "outputs": [
    {
     "data": {
      "text/plain": [
       "<h2o.automl.autoh2o.H2OAutoML at 0x10f9e37b8>"
      ]
     },
     "execution_count": 11,
     "metadata": {},
     "output_type": "execute_result"
    }
   ],
   "source": [
    "mA"
   ]
  },
  {
   "cell_type": "code",
   "execution_count": 14,
   "metadata": {},
   "outputs": [
    {
     "data": {
      "text/html": [
       "<table>\n",
       "<thead>\n",
       "<tr><th>model_id                                  </th><th style=\"text-align: right;\">  mean_per_class_error</th><th style=\"text-align: right;\">  logloss</th><th style=\"text-align: right;\">     rmse</th><th style=\"text-align: right;\">       mse</th></tr>\n",
       "</thead>\n",
       "<tbody>\n",
       "<tr><td>DRF_0_AutoML_20180619_141403              </td><td style=\"text-align: right;\">             0.0111111</td><td style=\"text-align: right;\">0.0613333</td><td style=\"text-align: right;\">0.137673 </td><td style=\"text-align: right;\">0.018954  </td></tr>\n",
       "<tr><td>GBM_grid_0_AutoML_20180619_141403_model_15</td><td style=\"text-align: right;\">             0.0111111</td><td style=\"text-align: right;\">0.116982 </td><td style=\"text-align: right;\">0.148999 </td><td style=\"text-align: right;\">0.0222008 </td></tr>\n",
       "<tr><td>GBM_grid_0_AutoML_20180619_141403_model_5 </td><td style=\"text-align: right;\">             0.0114943</td><td style=\"text-align: right;\">0.0354517</td><td style=\"text-align: right;\">0.107989 </td><td style=\"text-align: right;\">0.0116616 </td></tr>\n",
       "<tr><td>XRT_0_AutoML_20180619_141403              </td><td style=\"text-align: right;\">             0.0222222</td><td style=\"text-align: right;\">0.0609717</td><td style=\"text-align: right;\">0.130885 </td><td style=\"text-align: right;\">0.0171309 </td></tr>\n",
       "<tr><td>GBM_grid_0_AutoML_20180619_141403_model_16</td><td style=\"text-align: right;\">             0.0226054</td><td style=\"text-align: right;\">0.0426859</td><td style=\"text-align: right;\">0.124119 </td><td style=\"text-align: right;\">0.0154055 </td></tr>\n",
       "<tr><td>GBM_grid_0_AutoML_20180619_141403_model_0 </td><td style=\"text-align: right;\">             0.0226054</td><td style=\"text-align: right;\">0.0459365</td><td style=\"text-align: right;\">0.117364 </td><td style=\"text-align: right;\">0.0137744 </td></tr>\n",
       "<tr><td>GBM_grid_0_AutoML_20180619_141403_model_1 </td><td style=\"text-align: right;\">             0.0226054</td><td style=\"text-align: right;\">0.020132 </td><td style=\"text-align: right;\">0.0871536</td><td style=\"text-align: right;\">0.00759576</td></tr>\n",
       "<tr><td>GBM_grid_0_AutoML_20180619_141403_model_14</td><td style=\"text-align: right;\">             0.0226054</td><td style=\"text-align: right;\">0.108208 </td><td style=\"text-align: right;\">0.146754 </td><td style=\"text-align: right;\">0.0215366 </td></tr>\n",
       "<tr><td>GBM_grid_0_AutoML_20180619_141403_model_3 </td><td style=\"text-align: right;\">             0.0226054</td><td style=\"text-align: right;\">0.0313104</td><td style=\"text-align: right;\">0.108281 </td><td style=\"text-align: right;\">0.0117247 </td></tr>\n",
       "<tr><td>GLM_grid_0_AutoML_20180619_141403_model_0 </td><td style=\"text-align: right;\">             0.0226054</td><td style=\"text-align: right;\">0.0708154</td><td style=\"text-align: right;\">0.142862 </td><td style=\"text-align: right;\">0.0204097 </td></tr>\n",
       "</tbody>\n",
       "</table>"
      ]
     },
     "metadata": {},
     "output_type": "display_data"
    },
    {
     "data": {
      "text/plain": []
     },
     "execution_count": 14,
     "metadata": {},
     "output_type": "execute_result"
    }
   ],
   "source": [
    "mA.leaderboard"
   ]
  },
  {
   "cell_type": "markdown",
   "metadata": {},
   "source": [
    "To use the best model, call the leader"
   ]
  },
  {
   "cell_type": "code",
   "execution_count": 12,
   "metadata": {},
   "outputs": [
    {
     "name": "stdout",
     "output_type": "stream",
     "text": [
      "drf prediction progress: |████████████████████████████████████████████████| 100%\n"
     ]
    }
   ],
   "source": [
    "p=mA.leader.predict(test)"
   ]
  },
  {
   "cell_type": "code",
   "execution_count": 15,
   "metadata": {},
   "outputs": [
    {
     "data": {
      "text/html": [
       "<table>\n",
       "<thead>\n",
       "<tr><th>predict        </th><th style=\"text-align: right;\">  Iris-setosa</th><th style=\"text-align: right;\">  Iris-versicolor</th><th style=\"text-align: right;\">  Iris-virginica</th></tr>\n",
       "</thead>\n",
       "<tbody>\n",
       "<tr><td>Iris-setosa    </td><td style=\"text-align: right;\">   1         </td><td style=\"text-align: right;\">         0       </td><td style=\"text-align: right;\">        0       </td></tr>\n",
       "<tr><td>Iris-setosa    </td><td style=\"text-align: right;\">   1         </td><td style=\"text-align: right;\">         0       </td><td style=\"text-align: right;\">        0       </td></tr>\n",
       "<tr><td>Iris-setosa    </td><td style=\"text-align: right;\">   1         </td><td style=\"text-align: right;\">         0       </td><td style=\"text-align: right;\">        0       </td></tr>\n",
       "<tr><td>Iris-setosa    </td><td style=\"text-align: right;\">   1         </td><td style=\"text-align: right;\">         0       </td><td style=\"text-align: right;\">        0       </td></tr>\n",
       "<tr><td>Iris-setosa    </td><td style=\"text-align: right;\">   1         </td><td style=\"text-align: right;\">         0       </td><td style=\"text-align: right;\">        0       </td></tr>\n",
       "<tr><td>Iris-setosa    </td><td style=\"text-align: right;\">   1         </td><td style=\"text-align: right;\">         0       </td><td style=\"text-align: right;\">        0       </td></tr>\n",
       "<tr><td>Iris-versicolor</td><td style=\"text-align: right;\">   0.00286533</td><td style=\"text-align: right;\">         0.830946</td><td style=\"text-align: right;\">        0.166189</td></tr>\n",
       "<tr><td>Iris-versicolor</td><td style=\"text-align: right;\">   0.00215054</td><td style=\"text-align: right;\">         0.997849</td><td style=\"text-align: right;\">        0       </td></tr>\n",
       "<tr><td>Iris-versicolor</td><td style=\"text-align: right;\">   0.00215054</td><td style=\"text-align: right;\">         0.997849</td><td style=\"text-align: right;\">        0       </td></tr>\n",
       "<tr><td>Iris-versicolor</td><td style=\"text-align: right;\">   0.105085  </td><td style=\"text-align: right;\">         0.894915</td><td style=\"text-align: right;\">        0       </td></tr>\n",
       "</tbody>\n",
       "</table>"
      ]
     },
     "metadata": {},
     "output_type": "display_data"
    },
    {
     "data": {
      "text/plain": []
     },
     "execution_count": 15,
     "metadata": {},
     "output_type": "execute_result"
    }
   ],
   "source": [
    "p"
   ]
  },
  {
   "cell_type": "code",
   "execution_count": 16,
   "metadata": {},
   "outputs": [
    {
     "name": "stdout",
     "output_type": "stream",
     "text": [
      "\n",
      "ModelMetricsMultinomial: drf\n",
      "** Reported on test data. **\n",
      "\n",
      "MSE: 0.06683971210086596\n",
      "RMSE: 0.258533773617425\n",
      "LogLoss: 1.3787501455421678\n",
      "Mean Per-Class Error: 0.05128205128205129\n",
      "Confusion Matrix: Row labels: Actual class; Column labels: Predicted class\n",
      "\n"
     ]
    },
    {
     "data": {
      "text/html": [
       "<div style=\"overflow:auto\"><table style=\"width:50%\"><tr><td><b>Iris-setosa</b></td>\n",
       "<td><b>Iris-versicolor</b></td>\n",
       "<td><b>Iris-virginica</b></td>\n",
       "<td><b>Error</b></td>\n",
       "<td><b>Rate</b></td></tr>\n",
       "<tr><td>6.0</td>\n",
       "<td>0.0</td>\n",
       "<td>0.0</td>\n",
       "<td>0.0</td>\n",
       "<td>0 / 6</td></tr>\n",
       "<tr><td>0.0</td>\n",
       "<td>8.0</td>\n",
       "<td>0.0</td>\n",
       "<td>0.0</td>\n",
       "<td>0 / 8</td></tr>\n",
       "<tr><td>0.0</td>\n",
       "<td>2.0</td>\n",
       "<td>11.0</td>\n",
       "<td>0.1538462</td>\n",
       "<td>2 / 13</td></tr>\n",
       "<tr><td>6.0</td>\n",
       "<td>10.0</td>\n",
       "<td>11.0</td>\n",
       "<td>0.0740741</td>\n",
       "<td>2 / 27</td></tr></table></div>"
      ],
      "text/plain": [
       "Iris-setosa    Iris-versicolor    Iris-virginica    Error      Rate\n",
       "-------------  -----------------  ----------------  ---------  ------\n",
       "6              0                  0                 0          0 / 6\n",
       "0              8                  0                 0          0 / 8\n",
       "0              2                  11                0.153846   2 / 13\n",
       "6              10                 11                0.0740741  2 / 27"
      ]
     },
     "metadata": {},
     "output_type": "display_data"
    },
    {
     "name": "stdout",
     "output_type": "stream",
     "text": [
      "Top-3 Hit Ratios: \n"
     ]
    },
    {
     "data": {
      "text/html": [
       "<div style=\"overflow:auto\"><table style=\"width:50%\"><tr><td><b>k</b></td>\n",
       "<td><b>hit_ratio</b></td></tr>\n",
       "<tr><td>1</td>\n",
       "<td>0.9259259</td></tr>\n",
       "<tr><td>2</td>\n",
       "<td>0.9629629</td></tr>\n",
       "<tr><td>3</td>\n",
       "<td>0.9999999</td></tr></table></div>"
      ],
      "text/plain": [
       "k    hit_ratio\n",
       "---  -----------\n",
       "1    0.925926\n",
       "2    0.962963\n",
       "3    1"
      ]
     },
     "metadata": {},
     "output_type": "display_data"
    },
    {
     "data": {
      "text/plain": []
     },
     "execution_count": 16,
     "metadata": {},
     "output_type": "execute_result"
    }
   ],
   "source": [
    "mA.leader.model_performance(test)"
   ]
  },
  {
   "cell_type": "markdown",
   "metadata": {},
   "source": [
    "leadeboard also uses 15% of your training data for your validation, so we can take a manual control on how we split our data"
   ]
  }
 ],
 "metadata": {
  "kernelspec": {
   "display_name": "Python 3",
   "language": "python",
   "name": "python3"
  },
  "language_info": {
   "codemirror_mode": {
    "name": "ipython",
    "version": 3
   },
   "file_extension": ".py",
   "mimetype": "text/x-python",
   "name": "python",
   "nbconvert_exporter": "python",
   "pygments_lexer": "ipython3",
   "version": "3.7.7"
  }
 },
 "nbformat": 4,
 "nbformat_minor": 2
}
